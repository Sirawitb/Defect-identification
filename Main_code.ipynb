{
 "cells": [
  {
   "cell_type": "markdown",
   "metadata": {},
   "source": [
    "# Failure Attribute Analysis - version 0.2 GUI"
   ]
  },
  {
   "cell_type": "code",
   "execution_count": 16,
   "metadata": {},
   "outputs": [
    {
     "data": {
      "text/html": [
       "\n",
       "            <script>\n",
       "                code_show = false;\n",
       "                function restart_run_all(){\n",
       "                    IPython.notebook.kernel.restart();\n",
       "                    setTimeout(function(){\n",
       "                        IPython.notebook.execute_all_cells();\n",
       "                    }, 10000)\n",
       "                }\n",
       "                function code_toggle() {\n",
       "                    if (code_show) {\n",
       "                        $('div.input').hide(200);\n",
       "                    } else {\n",
       "                        $('div.input').show(200);\n",
       "                    }\n",
       "                    code_show = !code_show\n",
       "                }\n",
       "            </script>\n",
       "            <button onclick=\"restart_run_all()\">Reset and Start Again</button>\n",
       "        "
      ],
      "text/plain": [
       "<IPython.core.display.HTML object>"
      ]
     },
     "metadata": {},
     "output_type": "display_data"
    }
   ],
   "source": [
    "from IPython.display import HTML, Javascript, display\n",
    "\n",
    "def initialize():\n",
    "    display(HTML(\n",
    "        '''\n",
    "            <script>\n",
    "                code_show = false;\n",
    "                function restart_run_all(){\n",
    "                    IPython.notebook.kernel.restart();\n",
    "                    setTimeout(function(){\n",
    "                        IPython.notebook.execute_all_cells();\n",
    "                    }, 10000)\n",
    "                }\n",
    "                function code_toggle() {\n",
    "                    if (code_show) {\n",
    "                        $('div.input').hide(200);\n",
    "                    } else {\n",
    "                        $('div.input').show(200);\n",
    "                    }\n",
    "                    code_show = !code_show\n",
    "                }\n",
    "            </script>\n",
    "            <button onclick=\"restart_run_all()\">Reset and Start Again</button>\n",
    "        '''\n",
    "    ))\n",
    "initialize()"
   ]
  },
  {
   "cell_type": "markdown",
   "metadata": {},
   "source": [
    "Step 1 - Upload your excel file containing drive serial numbers and thier status ([Click to see excel template](https://seagatetechnology-my.sharepoint.com/:x:/r/personal/sirawit_pruksawan_seagate_com/Documents/Data.csv?d=w82405581f1ba4384840334c91ab74eb5&csf=1&web=1&e=cB9Br1)) "
   ]
  },
  {
   "cell_type": "code",
   "execution_count": 2,
   "metadata": {},
   "outputs": [
    {
     "data": {
      "application/vnd.jupyter.widget-view+json": {
       "model_id": "02aa0cd34f334f13b0dbe8be4acbe4a5",
       "version_major": 2,
       "version_minor": 0
      },
      "text/plain": [
       "Output()"
      ]
     },
     "metadata": {},
     "output_type": "display_data"
    }
   ],
   "source": [
    "# set base batch id\n",
    "from datetime import datetime\n",
    "\n",
    "PROCESSING_CORE = 300\n",
    "BASE_BATCH_ID = str(datetime.now())\n",
    "\n",
    "import ipywidgets as widgets\n",
    "from ipywidgets import FileUpload, Output\n",
    "\n",
    "out = Output()\n",
    "\n",
    "@out.capture()\n",
    "def show_content(change):\n",
    "    print(\"Your file\", str(change['new'].keys())[9:],\"has been uploaded\")\n",
    "\n",
    "w = FileUpload(accept='.csv', multiple=False)\n",
    "w.observe(show_content, 'value')\n",
    "with out:\n",
    "    display(w)\n",
    "out\n",
    "\n"
   ]
  },
  {
   "cell_type": "markdown",
   "metadata": {},
   "source": [
    "Step 2 - Input Username and Password of logservice website below"
   ]
  },
  {
   "cell_type": "code",
   "execution_count": 3,
   "metadata": {},
   "outputs": [
    {
     "data": {
      "application/vnd.jupyter.widget-view+json": {
       "model_id": "068b8c1c2c5b4abe9dc3b6b338dd19c9",
       "version_major": 2,
       "version_minor": 0
      },
      "text/plain": [
       "Password(description='Username')"
      ]
     },
     "metadata": {},
     "output_type": "display_data"
    },
    {
     "data": {
      "application/vnd.jupyter.widget-view+json": {
       "model_id": "74b22a28a871436381370926f0880de7",
       "version_major": 2,
       "version_minor": 0
      },
      "text/plain": [
       "Password(description='Password:')"
      ]
     },
     "metadata": {},
     "output_type": "display_data"
    }
   ],
   "source": [
    "User = widgets.Password(description=\"Username\", width=200)\n",
    "Pass = widgets.Password(description='Password:', width=200)\n",
    "display(User)\n",
    "display(Pass)\n",
    "\n",
    "from IPython.display import Javascript, display\n"
   ]
  },
  {
   "cell_type": "code",
   "execution_count": 4,
   "metadata": {},
   "outputs": [
    {
     "data": {
      "application/vnd.jupyter.widget-view+json": {
       "model_id": "fc35dbc611d543d98c5a8a02367269b7",
       "version_major": 2,
       "version_minor": 0
      },
      "text/plain": [
       "Button(description='Generate result', style=ButtonStyle())"
      ]
     },
     "metadata": {},
     "output_type": "display_data"
    }
   ],
   "source": [
    "def run_all(ev):\n",
    "    display(Javascript('IPython.notebook.execute_cells_below()'))\n",
    "\n",
    "button = widgets.Button(description=\"Generate result\")\n",
    "button.on_click(run_all)\n",
    "display(button)"
   ]
  },
  {
   "cell_type": "code",
   "execution_count": 5,
   "metadata": {},
   "outputs": [
    {
     "name": "stdout",
     "output_type": "stream",
     "text": [
      "Please complete all required information\n"
     ]
    },
    {
     "ename": "SystemExit",
     "evalue": "",
     "output_type": "error",
     "traceback": [
      "An exception has occurred, use %tb to see the full traceback.\n",
      "\u001b[0;31mSystemExit\u001b[0m\n"
     ]
    }
   ],
   "source": [
    "import warnings\n",
    "warnings.simplefilter('ignore')\n",
    "import sys\n",
    "import pandas as pd\n",
    "\n",
    "with open(\"Data.csv\", \"w+b\") as i:\n",
    "    if len(w.data) > 0:\n",
    "        i.write(w.data[0])\n",
    "    else:\n",
    "        print(\"Please complete all required information\")\n",
    "        sys.exit()\n",
    "        \n",
    "x=pd.read_csv('Data.csv', index_col=None)\n",
    "\n",
    "\n",
    "# import Pass/fail data\n",
    "import pandas as pd\n",
    "import numpy as np\n",
    "SERIALNUMBER = x\n",
    "SERIALNUMBER = SERIALNUMBER.drop(['STATUS'], axis=1)\n",
    "SERIALNUMBER_chunk = np.array_split(SERIALNUMBER.values.reshape(-1), PROCESSING_CORE)\n",
    "#SERIALNUMBER_chunk[0].shape\n",
    "\n",
    "# Log in to Logservice web and generate attribute sheet\n",
    "import getpass\n",
    "import requests\n",
    "import multiprocessing\n",
    "import lib.data_preparation as dp\n",
    "\n",
    "USER = User.value\n",
    "PASS = Pass.value\n",
    "\n",
    "for chunk_id in range(PROCESSING_CORE):\n",
    "    \n",
    "    SESSION = requests.session()\n",
    "    SESSION.post('http://kor.log.seagate.com/LogService/Login.aspx?ReturnUrl=%2fLogService%2f', data = {\n",
    "        'm_textboxUserName' : USER,\n",
    "        'm_textboxPassword' : PASS\n",
    "    })\n",
    "    \n",
    "    m = multiprocessing.Process(\n",
    "        target = dp.run,\n",
    "        args = (\n",
    "            SESSION, BASE_BATCH_ID, SERIALNUMBER_chunk[chunk_id].tolist(),\n",
    "        )\n",
    "    ).start()\n",
    "    \n",
    "# combine all attribute sheets into one file\n",
    "import pandas as pd\n",
    "import glob\n",
    "    \n",
    "path = './__tmp__/' # use your path\n",
    "all_files = glob.glob(path + BASE_BATCH_ID +\"/*.csv\")\n",
    "\n",
    "li = []\n",
    "\n",
    "import os\n",
    "str_directory = path + BASE_BATCH_ID\n",
    "list_files = [x for x in os.listdir(str_directory) if x[0]!='.']\n",
    "for each_file in list_files:\n",
    "    file_path = '%s/%s' % (str_directory, each_file)\n",
    "    if os.path.getsize(file_path)==0:\n",
    "        os.remove(file_path)\n",
    "    else:\n",
    "        pass\n",
    "all_files = glob.glob(path + BASE_BATCH_ID +\"/*.csv\")\n",
    "    \n",
    "for filename in all_files:\n",
    "    df = pd.read_csv(filename, index_col=None, header=0, )\n",
    "    li.append(df)\n",
    "\n",
    "frame = pd.concat(li, axis=0, ignore_index=True)\n",
    "\n",
    "df = pd.read_csv('Data.csv', index_col=None, header=0)\n",
    "frame = frame.set_index('SERIAL_NUM').join(df.set_index('SERIAL_NUM'))\n",
    "frame.to_excel('Full_raw_data.xlsx', index=True)"
   ]
  },
  {
   "cell_type": "code",
   "execution_count": null,
   "metadata": {},
   "outputs": [],
   "source": [
    "dt = pd.read_excel('Full_raw_data.xlsx', index_col=None, header=0)\n",
    "dt = dt.drop(['DRIVE_ATTRIBUTES*'], axis=1)\n",
    "dt = dt.loc[:, ~dt.columns.str.contains('^Unnamed')]\n",
    "dt = dt.iloc[1:]\n",
    "data=dt.replace(np.NaN,\"NaN\")\n",
    "#list=['BIRTH_DATE','EVENT_DATE','TEST_DATE','BIRTH_DATE.1','LUBE1_DATE', 'LUBE1_DATE_2', 'LUBE1_DATE_3', 'LUBE1_DATE_6', 'LUBE1_DATE_7', 'LUBE1_DATE_8', 'MDW_TEST_DATE', 'MDW_TEST_DATE_2', 'MDW_TEST_DATE_3', 'MDW_TEST_DATE_4', 'MDW_TEST_DATE_5', 'MDW_TEST_DATE_6', 'MDW_TEST_DATE_7', 'MDW_TEST_DATE_8']\n",
    "list=['LUBE1_DATE_2']\n",
    "for col in list: \n",
    "    DATE_col= col\n",
    "    data=data.sort_values(by=[DATE_col], ascending=True)\n",
    "    data['LEVEL_'+DATE_col] = np.rint(data.index.values/(len(data)/5))\n",
    "    data\n",
    "\n",
    "    conditions = [\n",
    "        (data['LEVEL_'+DATE_col] == 0),\n",
    "        (data['LEVEL_'+DATE_col] == 1),\n",
    "        (data['LEVEL_'+DATE_col] == 2),\n",
    "        (data['LEVEL_'+DATE_col] == 3),\n",
    "        (data['LEVEL_'+DATE_col] == 4),\n",
    "        (data['LEVEL_'+DATE_col] == 5)\n",
    "        ]\n",
    "\n",
    "    values = ['Time 1', 'Time 2', 'Time 3', 'Time 4', 'Time 5', 'Time 6']\n",
    "\n",
    "    data['TIME_'+DATE_col] = np.select(conditions, values)\n",
    "\n",
    "    data=data.drop(['LEVEL_'+DATE_col], axis=1)\n",
    "    data=data.drop([DATE_col], axis=1)\n",
    "    data\n",
    "\n",
    "df = pd.DataFrame(columns = ['Attribute'])\n",
    "maxt = 0\n",
    "\n",
    "max\n",
    "for col in data.columns: \n",
    "    d1 = data.groupby([col, \"STATUS\"])[\"STATUS\"].count().unstack(1)\n",
    "    d1 = d1.replace(np.NaN,0)\n",
    "    #print(d1)\n",
    "    if np.size(d1,1) > 0 and len(d1) > 0 and col != \"STATUS\":\n",
    "        d1[\"Diff\"] = d1[\"F\"]-d1[\"P\"]\n",
    "        d1[\"Ratio\"] = 100*d1[\"F\"]/(d1[\"P\"]+d1[\"F\"])\n",
    "        maxdif = np.nanmax(d1['Diff'])\n",
    "        maxratio = np.nanmax(d1['Ratio'])\n",
    "        meandif = np.nanmean(d1['Diff'])\n",
    "        \n",
    "        d2 = d1.loc[d1['Ratio'] != np.inf]\n",
    "        meanratio = np.nanmean(d2['Ratio'])    \n",
    "        \n",
    "        d1.head()  \n",
    "        #print(d1)\n",
    "        #print(\"mean ratio\", meanratio)\n",
    "        d1 = d1.loc[d1['Diff'] >= meandif]\n",
    "        d1 = d1.loc[d1['Ratio'] >= meanratio]\n",
    "        d1 = d1.loc[d1['Diff'] == maxdif]\n",
    "        m=d1['Diff'].max()\n",
    "        n=d1['Ratio'].max()\n",
    "        df=df.append({'Attribute':col, 'Max surplus fail quantity':m, 'Max fail rate':n}, ignore_index=True)\n",
    "    #print(col)\n",
    "    #print(d1)\n",
    "rank_mfr = df.sort_values(by=['Max surplus fail quantity', 'Max fail rate'], ascending=[False, False])\n",
    "rank_mfr = rank_mfr.loc[rank_mfr['Max surplus fail quantity'] >= np.nanmean(rank_mfr['Max surplus fail quantity'])]\n",
    "rank_mfr = rank_mfr.loc[rank_mfr['Max fail rate'] >= np.nanmean(rank_mfr['Max fail rate'])]\n",
    "rank_mfr = rank_mfr.reset_index(drop=True)\n",
    "rank_msfq = df.sort_values(by=['Max fail rate', 'Max surplus fail quantity'], ascending=[False, False])\n",
    "rank_msfq = rank_msfq.loc[rank_msfq['Max surplus fail quantity'] >= np.nanmean(rank_msfq['Max surplus fail quantity'])]\n",
    "rank_msfq = rank_msfq.loc[rank_msfq['Max fail rate'] >= np.nanmean(rank_msfq['Max fail rate'])]\n",
    "rank_msfq = rank_msfq.reset_index(drop=True)"
   ]
  },
  {
   "cell_type": "code",
   "execution_count": null,
   "metadata": {
    "scrolled": false
   },
   "outputs": [],
   "source": [
    "df.to_csv('Summary_table.csv', index=False)\n",
    "\n",
    "%matplotlib inline\n",
    "import matplotlib.pyplot as plt\n",
    "import pandas as pd\n",
    "import ipywidgets as widgets\n",
    "import numpy as np\n",
    "from ipywidgets.widgets.interaction import show_inline_matplotlib_plots\n",
    "\n",
    "from IPython.core.display import display, HTML\n",
    "display(HTML(\"<style>div.output_scroll { height: 30em; }</style>\"))\n",
    "\n",
    "out1 = widgets.Output()\n",
    "out2 = widgets.Output()\n",
    "out3 = widgets.Output()\n",
    "\n",
    "tab = widgets.Tab(children = [out1, out2, out3])\n",
    "tab.set_title(0, 'Summary Graph')\n",
    "tab.set_title(1, 'Summary Table')\n",
    "tab.set_title(2, 'Download')\n",
    "display(tab)\n",
    "with out1:\n",
    "    dropdown_year2 = widgets.Dropdown(options = ['Select result type','Result based on surplus fail quantity', 'Result based on fail rate'])\n",
    "    output_year2 = widgets.Output()\n",
    "    xy = 15\n",
    "    def dropdown_year_eventhandler2(change):\n",
    "        output_year2.clear_output()\n",
    "        with output_year2:\n",
    "            if (change.new == \"Result based on surplus fail quantity\"):\n",
    "                for n in range (xy):\n",
    "                    d1 = data.groupby([str(rank_mfr['Attribute'].iloc[n]), \"STATUS\"])[\"STATUS\"].count().unstack(1)\n",
    "                    color_list = ['r', 'g']\n",
    "                    d1.plot(kind=\"bar\", color=color_list, title=\"Attribute: \" + str(rank_mfr['Attribute'].iloc[n]))              \n",
    "                    show_inline_matplotlib_plots()\n",
    "            if (change.new == \"Result based on fail rate\"):\n",
    "                for n in range (xy):\n",
    "                    d1 = data.groupby([str(rank_msfq['Attribute'].iloc[n]), \"STATUS\"])[\"STATUS\"].count().unstack(1)\n",
    "                    color_list = ['r', 'g']\n",
    "                    d1.plot(kind=\"bar\", color=color_list, title=\"Attribute: \" + str(rank_msfq['Attribute'].iloc[n]))\n",
    "                    show_inline_matplotlib_plots()       \n",
    "    dropdown_year2.observe(dropdown_year_eventhandler2, names='value')\n",
    "    display(dropdown_year2)\n",
    "    display(output_year2)\n",
    "    \n",
    "with out2:    \n",
    "\n",
    "    dropdown_year = widgets.Dropdown(options = ['Select table type','Sort by Max surplus fail quantity', 'Sort by Max fail rate'])\n",
    "    output_year = widgets.Output()\n",
    "    \n",
    "    def dropdown_year_eventhandler(change):\n",
    "        output_year.clear_output()\n",
    "        with output_year:\n",
    "            if (change.new == \"Sort by Max surplus fail quantity\"):\\\n",
    "                \n",
    "                display(pd.DataFrame(rank_mfr))\n",
    "            if (change.new == \"Sort by Max fail rate\"):\n",
    "                display(pd.DataFrame(rank_msfq))\n",
    "    pd.set_option('display.max_rows', None, 'display.max_columns', None)        \n",
    "    dropdown_year.observe(dropdown_year_eventhandler, names='value')\n",
    "    display(dropdown_year)\n",
    "    display(output_year)\n",
    "    \n",
    "with out3:      \n",
    "    from IPython.display import FileLink\n",
    "    display(FileLink('Full_raw_data.xlsx'))\n",
    "    display(FileLink('Summary_table.csv'))\n",
    "    "
   ]
  },
  {
   "cell_type": "code",
   "execution_count": 17,
   "metadata": {},
   "outputs": [
    {
     "data": {
      "text/html": [
       "<script>\n",
       "  function code_toggle() {\n",
       "    if (code_shown){\n",
       "      $('div.input').hide('500');\n",
       "      $('#toggleButton').val('Display code')\n",
       "    } else {\n",
       "      $('div.input').show('500');\n",
       "      $('#toggleButton').val('Hide Code')\n",
       "    }\n",
       "    code_shown = !code_shown\n",
       "  }\n",
       "\n",
       "  $( document ).ready(function(){\n",
       "    code_shown=false;\n",
       "    $('div.input').hide()\n",
       "  });\n",
       "</script>\n",
       "<form action=\"javascript:code_toggle()\"><input type=\"submit\" id=\"toggleButton\" value=\"Display code\"></form>"
      ],
      "text/plain": [
       "<IPython.core.display.HTML object>"
      ]
     },
     "execution_count": 17,
     "metadata": {},
     "output_type": "execute_result"
    }
   ],
   "source": [
    "from IPython.display import HTML\n",
    "\n",
    "HTML('''<script>\n",
    "  function code_toggle() {\n",
    "    if (code_shown){\n",
    "      $('div.input').hide('500');\n",
    "      $('#toggleButton').val('Display code')\n",
    "    } else {\n",
    "      $('div.input').show('500');\n",
    "      $('#toggleButton').val('Hide Code')\n",
    "    }\n",
    "    code_shown = !code_shown\n",
    "  }\n",
    "\n",
    "  $( document ).ready(function(){\n",
    "    code_shown=false;\n",
    "    $('div.input').hide()\n",
    "  });\n",
    "</script>\n",
    "<form action=\"javascript:code_toggle()\"><input type=\"submit\" id=\"toggleButton\" value=\"Display code\"></form>''')"
   ]
  },
  {
   "cell_type": "code",
   "execution_count": null,
   "metadata": {},
   "outputs": [],
   "source": [
    "dt = pd.read_excel('Full_raw_data.xlsx', index_col=None, header=0)\n",
    "dt = dt.drop(['DRIVE_ATTRIBUTES*'], axis=1)\n",
    "dt = dt.loc[:, ~dt.columns.str.contains('^Unnamed')]\n",
    "dt = dt.iloc[1:]\n",
    "data=dt.replace(np.NaN,\"NaN\")"
   ]
  },
  {
   "cell_type": "code",
   "execution_count": null,
   "metadata": {},
   "outputs": [],
   "source": [
    "#list=['BIRTH_DATE','EVENT_DATE','TEST_DATE','BIRTH_DATE.1','LUBE1_DATE', 'LUBE1_DATE_2', 'LUBE1_DATE_3', 'LUBE1_DATE_6', 'LUBE1_DATE_7', 'LUBE1_DATE_8', 'MDW_TEST_DATE', 'MDW_TEST_DATE_2', 'MDW_TEST_DATE_3', 'MDW_TEST_DATE_4', 'MDW_TEST_DATE_5', 'MDW_TEST_DATE_6', 'MDW_TEST_DATE_7', 'MDW_TEST_DATE_8']"
   ]
  }
 ],
 "metadata": {
  "kernelspec": {
   "display_name": "Python 3",
   "language": "python",
   "name": "python3"
  },
  "language_info": {
   "codemirror_mode": {
    "name": "ipython",
    "version": 3
   },
   "file_extension": ".py",
   "mimetype": "text/x-python",
   "name": "python",
   "nbconvert_exporter": "python",
   "pygments_lexer": "ipython3",
   "version": "3.7.6"
  }
 },
 "nbformat": 4,
 "nbformat_minor": 4
}
